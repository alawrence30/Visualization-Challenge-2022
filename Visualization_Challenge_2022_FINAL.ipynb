{
  "nbformat": 4,
  "nbformat_minor": 0,
  "metadata": {
    "colab": {
      "name": "Visualization Challenge 2022 - FINAL",
      "provenance": [],
      "collapsed_sections": [],
      "authorship_tag": "ABX9TyPIfZhCzApkD2jgIe5/rSf/",
      "include_colab_link": true
    },
    "kernelspec": {
      "name": "python3",
      "display_name": "Python 3"
    },
    "language_info": {
      "name": "python"
    }
  },
  "cells": [
    {
      "cell_type": "markdown",
      "metadata": {
        "id": "view-in-github",
        "colab_type": "text"
      },
      "source": [
        "<a href=\"https://colab.research.google.com/github/alawrence30/Visualization-Challenge-2022/blob/main/Visualization_Challenge_2022_FINAL.ipynb\" target=\"_parent\"><img src=\"https://colab.research.google.com/assets/colab-badge.svg\" alt=\"Open In Colab\"/></a>"
      ]
    },
    {
      "cell_type": "code",
      "execution_count": 1,
      "metadata": {
        "id": "x80bZUjtycWh"
      },
      "outputs": [],
      "source": [
        "import pandas as pd\n",
        "import numpy as np\n",
        "import matplotlib\n",
        "import matplotlib.pyplot as plt\n",
        "import os"
      ]
    },
    {
      "cell_type": "code",
      "source": [
        "from google.colab import drive\n",
        "drive.mount('/content/gdrive')\n",
        "\n",
        "os.getcwd()\n",
        "%cd /content/gdrive/My Drive/Visualization Challenge 2022/\n",
        "!pwd\n",
        "!ls\n",
        "\n",
        "work_dir = \"/content/gdrive/My Drive/Visualization Challenge 2022/\"\n",
        "\n",
        "df = pd.read_csv(work_dir + 'Towed_Vehicles.csv')"
      ],
      "metadata": {
        "colab": {
          "base_uri": "https://localhost:8080/"
        },
        "id": "Nuw-TzwNgkML",
        "outputId": "28396724-8260-49e8-afd3-fdfc09a50759"
      },
      "execution_count": 2,
      "outputs": [
        {
          "output_type": "stream",
          "name": "stdout",
          "text": [
            "Drive already mounted at /content/gdrive; to attempt to forcibly remount, call drive.mount(\"/content/gdrive\", force_remount=True).\n",
            "/content/gdrive/My Drive/Visualization Challenge 2022\n",
            "/content/gdrive/My Drive/Visualization Challenge 2022\n",
            " Towed_Vehicles.csv  'Visualization Challenge - FINAL.ipynb'\n"
          ]
        }
      ]
    },
    {
      "cell_type": "code",
      "source": [
        "# View dataset info\n",
        "df.info()"
      ],
      "metadata": {
        "colab": {
          "base_uri": "https://localhost:8080/"
        },
        "id": "HW7wOP562gcx",
        "outputId": "da63ee46-298e-486d-eedb-d4674678ced8"
      },
      "execution_count": 3,
      "outputs": [
        {
          "output_type": "stream",
          "name": "stdout",
          "text": [
            "<class 'pandas.core.frame.DataFrame'>\n",
            "RangeIndex: 2709 entries, 0 to 2708\n",
            "Data columns (total 10 columns):\n",
            " #   Column              Non-Null Count  Dtype \n",
            "---  ------              --------------  ----- \n",
            " 0   Tow Date            2709 non-null   object\n",
            " 1   Make                2685 non-null   object\n",
            " 2   Style               2694 non-null   object\n",
            " 3   Model               140 non-null    object\n",
            " 4   Color               2693 non-null   object\n",
            " 5   Plate               2287 non-null   object\n",
            " 6   State               2600 non-null   object\n",
            " 7   Towed to Address    2709 non-null   object\n",
            " 8   Tow Facility Phone  2708 non-null   object\n",
            " 9   Inventory Number    2709 non-null   int64 \n",
            "dtypes: int64(1), object(9)\n",
            "memory usage: 211.8+ KB\n"
          ]
        }
      ]
    },
    {
      "cell_type": "code",
      "source": [
        "df.head()"
      ],
      "metadata": {
        "colab": {
          "base_uri": "https://localhost:8080/",
          "height": 206
        },
        "id": "Uz8L0FjdBEDI",
        "outputId": "021e609e-11bc-478b-f5c8-73a36d91df8a"
      },
      "execution_count": 4,
      "outputs": [
        {
          "output_type": "execute_result",
          "data": {
            "text/plain": [
              "     Tow Date  Make Style Model Color     Plate State     Towed to Address  \\\n",
              "0  03/11/2022  MITS    LL   NaN   RED   BC96112    IL  400 E. Lower Wacker   \n",
              "1  01/03/2022  VOLV    LL    TK   GRY    RU5898    IL    701 N. Sacramento   \n",
              "2  03/03/2022  BUIC    LL   NaN   BLK     CC781    IN    701 N. Sacramento   \n",
              "3  03/12/2022  TOYT    4D   NaN   WHI  858AA010    IL    701 N. Sacramento   \n",
              "4  03/02/2022   GMC    LL   NaN   WHI       NaN    IL        10300 S. Doty   \n",
              "\n",
              "  Tow Facility Phone  Inventory Number  \n",
              "0     (312) 744-7550            254244  \n",
              "1     (773) 265-7605           7021002  \n",
              "2     (773) 265-7605           7025888  \n",
              "3     (773) 265-7605           7026600  \n",
              "4     (773) 568-8495           2929222  "
            ],
            "text/html": [
              "\n",
              "  <div id=\"df-dbb05a6c-fcb4-408d-9c7c-1de8881a7116\">\n",
              "    <div class=\"colab-df-container\">\n",
              "      <div>\n",
              "<style scoped>\n",
              "    .dataframe tbody tr th:only-of-type {\n",
              "        vertical-align: middle;\n",
              "    }\n",
              "\n",
              "    .dataframe tbody tr th {\n",
              "        vertical-align: top;\n",
              "    }\n",
              "\n",
              "    .dataframe thead th {\n",
              "        text-align: right;\n",
              "    }\n",
              "</style>\n",
              "<table border=\"1\" class=\"dataframe\">\n",
              "  <thead>\n",
              "    <tr style=\"text-align: right;\">\n",
              "      <th></th>\n",
              "      <th>Tow Date</th>\n",
              "      <th>Make</th>\n",
              "      <th>Style</th>\n",
              "      <th>Model</th>\n",
              "      <th>Color</th>\n",
              "      <th>Plate</th>\n",
              "      <th>State</th>\n",
              "      <th>Towed to Address</th>\n",
              "      <th>Tow Facility Phone</th>\n",
              "      <th>Inventory Number</th>\n",
              "    </tr>\n",
              "  </thead>\n",
              "  <tbody>\n",
              "    <tr>\n",
              "      <th>0</th>\n",
              "      <td>03/11/2022</td>\n",
              "      <td>MITS</td>\n",
              "      <td>LL</td>\n",
              "      <td>NaN</td>\n",
              "      <td>RED</td>\n",
              "      <td>BC96112</td>\n",
              "      <td>IL</td>\n",
              "      <td>400 E. Lower Wacker</td>\n",
              "      <td>(312) 744-7550</td>\n",
              "      <td>254244</td>\n",
              "    </tr>\n",
              "    <tr>\n",
              "      <th>1</th>\n",
              "      <td>01/03/2022</td>\n",
              "      <td>VOLV</td>\n",
              "      <td>LL</td>\n",
              "      <td>TK</td>\n",
              "      <td>GRY</td>\n",
              "      <td>RU5898</td>\n",
              "      <td>IL</td>\n",
              "      <td>701 N. Sacramento</td>\n",
              "      <td>(773) 265-7605</td>\n",
              "      <td>7021002</td>\n",
              "    </tr>\n",
              "    <tr>\n",
              "      <th>2</th>\n",
              "      <td>03/03/2022</td>\n",
              "      <td>BUIC</td>\n",
              "      <td>LL</td>\n",
              "      <td>NaN</td>\n",
              "      <td>BLK</td>\n",
              "      <td>CC781</td>\n",
              "      <td>IN</td>\n",
              "      <td>701 N. Sacramento</td>\n",
              "      <td>(773) 265-7605</td>\n",
              "      <td>7025888</td>\n",
              "    </tr>\n",
              "    <tr>\n",
              "      <th>3</th>\n",
              "      <td>03/12/2022</td>\n",
              "      <td>TOYT</td>\n",
              "      <td>4D</td>\n",
              "      <td>NaN</td>\n",
              "      <td>WHI</td>\n",
              "      <td>858AA010</td>\n",
              "      <td>IL</td>\n",
              "      <td>701 N. Sacramento</td>\n",
              "      <td>(773) 265-7605</td>\n",
              "      <td>7026600</td>\n",
              "    </tr>\n",
              "    <tr>\n",
              "      <th>4</th>\n",
              "      <td>03/02/2022</td>\n",
              "      <td>GMC</td>\n",
              "      <td>LL</td>\n",
              "      <td>NaN</td>\n",
              "      <td>WHI</td>\n",
              "      <td>NaN</td>\n",
              "      <td>IL</td>\n",
              "      <td>10300 S. Doty</td>\n",
              "      <td>(773) 568-8495</td>\n",
              "      <td>2929222</td>\n",
              "    </tr>\n",
              "  </tbody>\n",
              "</table>\n",
              "</div>\n",
              "      <button class=\"colab-df-convert\" onclick=\"convertToInteractive('df-dbb05a6c-fcb4-408d-9c7c-1de8881a7116')\"\n",
              "              title=\"Convert this dataframe to an interactive table.\"\n",
              "              style=\"display:none;\">\n",
              "        \n",
              "  <svg xmlns=\"http://www.w3.org/2000/svg\" height=\"24px\"viewBox=\"0 0 24 24\"\n",
              "       width=\"24px\">\n",
              "    <path d=\"M0 0h24v24H0V0z\" fill=\"none\"/>\n",
              "    <path d=\"M18.56 5.44l.94 2.06.94-2.06 2.06-.94-2.06-.94-.94-2.06-.94 2.06-2.06.94zm-11 1L8.5 8.5l.94-2.06 2.06-.94-2.06-.94L8.5 2.5l-.94 2.06-2.06.94zm10 10l.94 2.06.94-2.06 2.06-.94-2.06-.94-.94-2.06-.94 2.06-2.06.94z\"/><path d=\"M17.41 7.96l-1.37-1.37c-.4-.4-.92-.59-1.43-.59-.52 0-1.04.2-1.43.59L10.3 9.45l-7.72 7.72c-.78.78-.78 2.05 0 2.83L4 21.41c.39.39.9.59 1.41.59.51 0 1.02-.2 1.41-.59l7.78-7.78 2.81-2.81c.8-.78.8-2.07 0-2.86zM5.41 20L4 18.59l7.72-7.72 1.47 1.35L5.41 20z\"/>\n",
              "  </svg>\n",
              "      </button>\n",
              "      \n",
              "  <style>\n",
              "    .colab-df-container {\n",
              "      display:flex;\n",
              "      flex-wrap:wrap;\n",
              "      gap: 12px;\n",
              "    }\n",
              "\n",
              "    .colab-df-convert {\n",
              "      background-color: #E8F0FE;\n",
              "      border: none;\n",
              "      border-radius: 50%;\n",
              "      cursor: pointer;\n",
              "      display: none;\n",
              "      fill: #1967D2;\n",
              "      height: 32px;\n",
              "      padding: 0 0 0 0;\n",
              "      width: 32px;\n",
              "    }\n",
              "\n",
              "    .colab-df-convert:hover {\n",
              "      background-color: #E2EBFA;\n",
              "      box-shadow: 0px 1px 2px rgba(60, 64, 67, 0.3), 0px 1px 3px 1px rgba(60, 64, 67, 0.15);\n",
              "      fill: #174EA6;\n",
              "    }\n",
              "\n",
              "    [theme=dark] .colab-df-convert {\n",
              "      background-color: #3B4455;\n",
              "      fill: #D2E3FC;\n",
              "    }\n",
              "\n",
              "    [theme=dark] .colab-df-convert:hover {\n",
              "      background-color: #434B5C;\n",
              "      box-shadow: 0px 1px 3px 1px rgba(0, 0, 0, 0.15);\n",
              "      filter: drop-shadow(0px 1px 2px rgba(0, 0, 0, 0.3));\n",
              "      fill: #FFFFFF;\n",
              "    }\n",
              "  </style>\n",
              "\n",
              "      <script>\n",
              "        const buttonEl =\n",
              "          document.querySelector('#df-dbb05a6c-fcb4-408d-9c7c-1de8881a7116 button.colab-df-convert');\n",
              "        buttonEl.style.display =\n",
              "          google.colab.kernel.accessAllowed ? 'block' : 'none';\n",
              "\n",
              "        async function convertToInteractive(key) {\n",
              "          const element = document.querySelector('#df-dbb05a6c-fcb4-408d-9c7c-1de8881a7116');\n",
              "          const dataTable =\n",
              "            await google.colab.kernel.invokeFunction('convertToInteractive',\n",
              "                                                     [key], {});\n",
              "          if (!dataTable) return;\n",
              "\n",
              "          const docLinkHtml = 'Like what you see? Visit the ' +\n",
              "            '<a target=\"_blank\" href=https://colab.research.google.com/notebooks/data_table.ipynb>data table notebook</a>'\n",
              "            + ' to learn more about interactive tables.';\n",
              "          element.innerHTML = '';\n",
              "          dataTable['output_type'] = 'display_data';\n",
              "          await google.colab.output.renderOutput(dataTable, element);\n",
              "          const docLink = document.createElement('div');\n",
              "          docLink.innerHTML = docLinkHtml;\n",
              "          element.appendChild(docLink);\n",
              "        }\n",
              "      </script>\n",
              "    </div>\n",
              "  </div>\n",
              "  "
            ]
          },
          "metadata": {},
          "execution_count": 4
        }
      ]
    },
    {
      "cell_type": "code",
      "source": [
        "# Drop null color values\n",
        "df = df[df['Color'].notna()]\n",
        "df.info()"
      ],
      "metadata": {
        "colab": {
          "base_uri": "https://localhost:8080/"
        },
        "id": "b8dHztqDBEAx",
        "outputId": "854e68e4-5a2e-4b15-c254-c8be9175782a"
      },
      "execution_count": 5,
      "outputs": [
        {
          "output_type": "stream",
          "name": "stdout",
          "text": [
            "<class 'pandas.core.frame.DataFrame'>\n",
            "Int64Index: 2693 entries, 0 to 2708\n",
            "Data columns (total 10 columns):\n",
            " #   Column              Non-Null Count  Dtype \n",
            "---  ------              --------------  ----- \n",
            " 0   Tow Date            2693 non-null   object\n",
            " 1   Make                2672 non-null   object\n",
            " 2   Style               2684 non-null   object\n",
            " 3   Model               140 non-null    object\n",
            " 4   Color               2693 non-null   object\n",
            " 5   Plate               2278 non-null   object\n",
            " 6   State               2586 non-null   object\n",
            " 7   Towed to Address    2693 non-null   object\n",
            " 8   Tow Facility Phone  2692 non-null   object\n",
            " 9   Inventory Number    2693 non-null   int64 \n",
            "dtypes: int64(1), object(9)\n",
            "memory usage: 231.4+ KB\n"
          ]
        }
      ]
    },
    {
      "cell_type": "code",
      "source": [
        "# View color values \n",
        "print(df['Color'].value_counts())"
      ],
      "metadata": {
        "colab": {
          "base_uri": "https://localhost:8080/"
        },
        "id": "1I7VNuM1BD-b",
        "outputId": "f9b0b06f-e60d-48ef-8db5-95d93b30825e"
      },
      "execution_count": 6,
      "outputs": [
        {
          "output_type": "stream",
          "name": "stdout",
          "text": [
            "BLK    606\n",
            "GRY    476\n",
            "WHI    400\n",
            "SIL    387\n",
            "BLU    222\n",
            "RED    183\n",
            "TAN    110\n",
            "MAR     76\n",
            "GRN     62\n",
            "GLD     36\n",
            "DBL     33\n",
            "BGE     32\n",
            "BRO     18\n",
            "LBL     13\n",
            "YEL      7\n",
            "BRZ      6\n",
            "ONG      6\n",
            "PLE      5\n",
            "LGR      4\n",
            "CRM      4\n",
            "TRQ      3\n",
            "DGR      3\n",
            "LAV      1\n",
            "Name: Color, dtype: int64\n"
          ]
        }
      ]
    },
    {
      "cell_type": "code",
      "source": [
        "# Rename color values\n",
        "df['Color'] = df['Color'].str.replace('BLK','Black')\n",
        "df['Color'] = df['Color'].str.replace('GRY','Gray')\n",
        "df['Color'] = df['Color'].str.replace('WHI','White')\n",
        "df['Color'] = df['Color'].str.replace('SIL','Silver')\n",
        "df['Color'] = df['Color'].str.replace('BLU','Blue')\n",
        "df['Color'] = df['Color'].str.replace('RED','Red')\n",
        "df['Color'] = df['Color'].str.replace('TAN','Tan')\n",
        "df['Color'] = df['Color'].str.replace('MAR','Maroon')\n",
        "df['Color'] = df['Color'].str.replace('GRN','Green')\n",
        "df['Color'] = df['Color'].str.replace('DBL','Dark Blue')\n",
        "df['Color'] = df['Color'].str.replace('BGE','Beige')\n",
        "df['Color'] = df['Color'].str.replace('GLD','Gold')\n",
        "df['Color'] = df['Color'].str.replace('BRO','Brown')\n",
        "df['Color'] = df['Color'].str.replace('LBL','Light Blue')\n",
        "df['Color'] = df['Color'].str.replace('BRZ','Bronze')\n",
        "df['Color'] = df['Color'].str.replace('ONG','Orange')\n",
        "df['Color'] = df['Color'].str.replace('LGR','Light Green')\n",
        "df['Color'] = df['Color'].str.replace('YEL','Yellow')\n",
        "df['Color'] = df['Color'].str.replace('PLE','Purple')\n",
        "df['Color'] = df['Color'].str.replace('CRM','Cream')\n",
        "df['Color'] = df['Color'].str.replace('DGR','Dark Green')\n",
        "df['Color'] = df['Color'].str.replace('TRQ','Turquoise')\n",
        "df['Color'] = df['Color'].str.replace('LAV','Lavender')\n",
        "\n",
        "print(df['Color'].value_counts())"
      ],
      "metadata": {
        "colab": {
          "base_uri": "https://localhost:8080/"
        },
        "id": "g3RyM2WeBD8U",
        "outputId": "0103dfb8-cd61-4744-a825-4199a89cbd0e"
      },
      "execution_count": 7,
      "outputs": [
        {
          "output_type": "stream",
          "name": "stdout",
          "text": [
            "Black          606\n",
            "Gray           476\n",
            "White          400\n",
            "Silver         387\n",
            "Blue           222\n",
            "Red            183\n",
            "Tan            110\n",
            "Maroon          76\n",
            "Green           62\n",
            "Gold            36\n",
            "Dark Blue       33\n",
            "Beige           32\n",
            "Brown           18\n",
            "Light Blue      13\n",
            "Yellow           7\n",
            "Bronze           6\n",
            "Orange           6\n",
            "Purple           5\n",
            "Light Green      4\n",
            "Cream            4\n",
            "Turquoise        3\n",
            "Dark Green       3\n",
            "Lavender         1\n",
            "Name: Color, dtype: int64\n"
          ]
        }
      ]
    },
    {
      "cell_type": "code",
      "source": [
        "pip install pywaffle"
      ],
      "metadata": {
        "colab": {
          "base_uri": "https://localhost:8080/"
        },
        "id": "h7NkdV6tJyp8",
        "outputId": "a1548488-ee80-482d-9854-608e7f35056c"
      },
      "execution_count": 9,
      "outputs": [
        {
          "output_type": "stream",
          "name": "stdout",
          "text": [
            "Requirement already satisfied: pywaffle in /usr/local/lib/python3.7/dist-packages (0.6.4)\n",
            "Requirement already satisfied: matplotlib in /usr/local/lib/python3.7/dist-packages (from pywaffle) (3.2.2)\n",
            "Requirement already satisfied: kiwisolver>=1.0.1 in /usr/local/lib/python3.7/dist-packages (from matplotlib->pywaffle) (1.4.0)\n",
            "Requirement already satisfied: numpy>=1.11 in /usr/local/lib/python3.7/dist-packages (from matplotlib->pywaffle) (1.21.5)\n",
            "Requirement already satisfied: python-dateutil>=2.1 in /usr/local/lib/python3.7/dist-packages (from matplotlib->pywaffle) (2.8.2)\n",
            "Requirement already satisfied: pyparsing!=2.0.4,!=2.1.2,!=2.1.6,>=2.0.1 in /usr/local/lib/python3.7/dist-packages (from matplotlib->pywaffle) (3.0.7)\n",
            "Requirement already satisfied: cycler>=0.10 in /usr/local/lib/python3.7/dist-packages (from matplotlib->pywaffle) (0.11.0)\n",
            "Requirement already satisfied: typing-extensions in /usr/local/lib/python3.7/dist-packages (from kiwisolver>=1.0.1->matplotlib->pywaffle) (3.10.0.2)\n",
            "Requirement already satisfied: six>=1.5 in /usr/local/lib/python3.7/dist-packages (from python-dateutil>=2.1->matplotlib->pywaffle) (1.15.0)\n"
          ]
        }
      ]
    },
    {
      "cell_type": "code",
      "source": [
        "# Install PyWaffle\n",
        "from pywaffle import Waffle"
      ],
      "metadata": {
        "id": "UnsGX66_BD5-"
      },
      "execution_count": 10,
      "outputs": []
    },
    {
      "cell_type": "code",
      "source": [
        "# Organize color data\n",
        "df_color = df.groupby('Color').size().reset_index(name = 'counts_color')\n",
        "n_categories = df_color.shape[0]\n",
        "colors_color = [plt.cm.Set3(i/float(n_categories)) for i in range(n_categories)]"
      ],
      "metadata": {
        "id": "S8pMbzDpBD3n"
      },
      "execution_count": 11,
      "outputs": []
    },
    {
      "cell_type": "code",
      "source": [
        "# Plot color data\n",
        "fig = plt.figure(\n",
        "    FigureClass = Waffle,\n",
        "    plots = {\n",
        "        '313': {\n",
        "            'values': df_color['counts_color'],\n",
        "            'labels': [\"{1}\".format(n[0], n[1]) for n in df_color[['Color', 'counts_color']].itertuples()],\n",
        "            'legend': {'loc': 'upper left', 'bbox_to_anchor': (1.05, 1), 'fontsize': 10.5},\n",
        "            'title': {'label': 'Vehicles by Color', 'loc': 'center', 'fontsize':16, 'pad':15, 'fontweight':'bold'},\n",
        "            'colors':[\"#CDB79E\", \"#000000\", \"#0000FF\",\"#CD950C\", \"#8B6508\", \"#FFEBCD\",\n",
        "                     \"#00008B\", \"#006400\", \"#DCB732\",\"#808080\", \"#228B22\", \"#8470FF\",\n",
        "                     \"#00BFFF\", \"#90EE90\", \"#8B2500\",\"#FF7D40\", \"#9932CC\", \"#DC143C\",\n",
        "                     \"#A9A9A9\", \"#8B7355\", \"#00CED1\",\"#F8F8FF\", \"#FFD700\"],\n",
        "        }\n",
        "    },\n",
        "    rows = 23,\n",
        "    columns = 45,\n",
        "    figsize=(13, 18)\n",
        ")\n"
      ],
      "metadata": {
        "colab": {
          "base_uri": "https://localhost:8080/",
          "height": 457
        },
        "id": "KhEm-WUgBD1m",
        "outputId": "8464817a-2040-4bf8-c795-232f69fe23b4"
      },
      "execution_count": 42,
      "outputs": [
        {
          "output_type": "display_data",
          "data": {
            "text/plain": [
              "<Waffle size 936x1296 with 1 Axes>"
            ],
            "image/png": "[encoded data removed]"
          },
          "metadata": {
            "needs_background": "light"
          }
        }
      ]
    },
    {
      "cell_type": "code",
      "source": [
        "a"
      ],
      "metadata": {
        "id": "yzvzA7ddBDzV"
      },
      "execution_count": null,
      "outputs": []
    },
    {
      "cell_type": "code",
      "source": [
        ""
      ],
      "metadata": {
        "id": "Z4p4o-LkBDw3"
      },
      "execution_count": null,
      "outputs": []
    },
    {
      "cell_type": "code",
      "source": [
        ""
      ],
      "metadata": {
        "id": "jVnRuinFBDun"
      },
      "execution_count": null,
      "outputs": []
    }
  ]
}